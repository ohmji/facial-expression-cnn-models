{
  "nbformat": 4,
  "nbformat_minor": 0,
  "metadata": {
    "orig_nbformat": 2,
    "colab": {
      "name": "facial-expression-with-Xception.ipynb",
      "provenance": [],
      "collapsed_sections": [],
      "include_colab_link": true
    },
    "kernelspec": {
      "name": "python3",
      "display_name": "Python 3"
    },
    "accelerator": "GPU"
  },
  "cells": [
    {
      "cell_type": "markdown",
      "metadata": {
        "id": "view-in-github",
        "colab_type": "text"
      },
      "source": [
        "<a href=\"https://colab.research.google.com/github/ohmji/cnn-facial-expression-transfer-learning/blob/main/facial_expression_with_Xception.ipynb\" target=\"_parent\"><img src=\"https://colab.research.google.com/assets/colab-badge.svg\" alt=\"Open In Colab\"/></a>"
      ]
    },
    {
      "cell_type": "code",
      "metadata": {
        "id": "Xx8fHjCJ9R8b"
      },
      "source": [
        "import tensorflow as tf\r\n",
        "from tensorflow.keras.models import Sequential\r\n",
        "from tensorflow.keras.models import Model\r\n",
        "from tensorflow.keras.callbacks import ModelCheckpoint, TensorBoard, EarlyStopping\r\n",
        "from tensorflow.keras.optimizers import Adam\r\n",
        "from tensorflow.keras.preprocessing.image import ImageDataGenerator\r\n",
        "from tensorflow.keras.applications import MobileNetV2, Xception, VGG16, InceptionV3\r\n",
        "from tensorflow.keras.layers import Conv2D, MaxPool2D, MaxPooling2D, Dropout, \\\r\n",
        "    Flatten, Dense, BatchNormalization, \\\r\n",
        "    SpatialDropout2D, AveragePooling2D, Input, GlobalAveragePooling2D, Activation, ZeroPadding2D, Convolution2D\r\n",
        "import os\r\n",
        "import cv2\r\n",
        "import warnings\r\n",
        "import argparse\r\n",
        "import numpy as np\r\n",
        "import pandas as pd\r\n",
        "import matplotlib.pyplot as plt\r\n",
        "from math import ceil\r\n",
        "from sklearn import model_selection"
      ],
      "execution_count": 1,
      "outputs": []
    },
    {
      "cell_type": "code",
      "metadata": {
        "id": "iSg68xKa-I6M"
      },
      "source": [
        "physical_devices = tf.config.list_physical_devices('GPU')"
      ],
      "execution_count": 2,
      "outputs": []
    },
    {
      "cell_type": "code",
      "metadata": {
        "id": "jasiRKwKE1cN",
        "colab": {
          "base_uri": "https://localhost:8080/"
        },
        "outputId": "45765ffe-6098-4caf-af47-43c15f8ef8aa"
      },
      "source": [
        "from google.colab import drive\r\n",
        "drive.mount('/content/drive')\r\n"
      ],
      "execution_count": 3,
      "outputs": [
        {
          "output_type": "stream",
          "text": [
            "Drive already mounted at /content/drive; to attempt to forcibly remount, call drive.mount(\"/content/drive\", force_remount=True).\n"
          ],
          "name": "stdout"
        }
      ]
    },
    {
      "cell_type": "code",
      "metadata": {
        "colab": {
          "base_uri": "https://localhost:8080/"
        },
        "id": "4GZBhNgv-PrG",
        "outputId": "b4b77455-2a06-4284-d24a-44774bd3fa6d"
      },
      "source": [
        "print(physical_devices)"
      ],
      "execution_count": 4,
      "outputs": [
        {
          "output_type": "stream",
          "text": [
            "[PhysicalDevice(name='/physical_device:GPU:0', device_type='GPU')]\n"
          ],
          "name": "stdout"
        }
      ]
    },
    {
      "cell_type": "code",
      "metadata": {
        "id": "7WlinNOv-WA9"
      },
      "source": [
        "tf.config.experimental.set_memory_growth(physical_devices[0], True)\r\n",
        "tf.get_logger().setLevel('WARNING')"
      ],
      "execution_count": 5,
      "outputs": []
    },
    {
      "cell_type": "code",
      "metadata": {
        "id": "8pdZdSRW-iZB"
      },
      "source": [
        "def Xception_model(learning_rate, input_shape):\r\n",
        "    baseModel = Xception(\r\n",
        "        include_top=False, input_tensor=Input(shape=input_shape))\r\n",
        "    model = Sequential()\r\n",
        "    model.add(baseModel)\r\n",
        "    for layer in baseModel.layers[:-7]:\r\n",
        "        layer.trainable = False\r\n",
        "\r\n",
        "    model.add(Flatten())\r\n",
        "\r\n",
        "    # Fully connected neural networks\r\n",
        "    model.add(Dense(8192, activation='relu'))\r\n",
        "    model.add(Dropout(0.2))\r\n",
        "    model.add(Dense(8192, activation='relu'))\r\n",
        "    model.add(Dropout(0.2))\r\n",
        "    model.add(Dense(7, activation='softmax'))\r\n",
        "    model.compile(loss=\"binary_crossentropy\", metrics=[\"accuracy\"],\r\n",
        "                  optimizer=Adam(learning_rate=learning_rate))\r\n",
        "    return model"
      ],
      "execution_count": 6,
      "outputs": []
    },
    {
      "cell_type": "code",
      "metadata": {
        "id": "miB1StdO_H3L"
      },
      "source": [
        "def keras_model_memory_usage_in_bytes(model, *, batch_size: int):\r\n",
        "    \"\"\"\r\n",
        "    Return the estimated memory usage of a given Keras model in bytes.\r\n",
        "    Ref: https://stackoverflow.com/a/64359137\r\n",
        "    \"\"\"\r\n",
        "    default_dtype = tf.keras.backend.floatx()\r\n",
        "    shapes_mem_count = 0\r\n",
        "    internal_model_mem_count = 0\r\n",
        "    for layer in model.layers:\r\n",
        "        if isinstance(layer, tf.keras.Model):\r\n",
        "            internal_model_mem_count += keras_model_memory_usage_in_bytes(\r\n",
        "                layer, batch_size=batch_size)\r\n",
        "        single_layer_mem = tf.as_dtype(layer.dtype or default_dtype).size\r\n",
        "        out_shape = layer.output_shape\r\n",
        "        if isinstance(out_shape, list):\r\n",
        "            out_shape = out_shape[0]\r\n",
        "        for s in out_shape:\r\n",
        "            if s is None:\r\n",
        "                continue\r\n",
        "            single_layer_mem *= s\r\n",
        "        shapes_mem_count += single_layer_mem\r\n",
        "\r\n",
        "    trainable_count = sum([tf.keras.backend.count_params(p)\r\n",
        "                           for p in model.trainable_weights])\r\n",
        "    non_trainable_count = sum([tf.keras.backend.count_params(p)\r\n",
        "                               for p in model.non_trainable_weights])\r\n",
        "\r\n",
        "    total_memory = (batch_size * shapes_mem_count + internal_model_mem_count\r\n",
        "                    + trainable_count + non_trainable_count)\r\n",
        "    return total_memory\r\n"
      ],
      "execution_count": 7,
      "outputs": []
    },
    {
      "cell_type": "code",
      "metadata": {
        "id": "lxWVbkaM_Kr2"
      },
      "source": [
        "def preprocess_data(data,labels):\r\n",
        "    \r\n",
        "\r\n",
        "    orig_class_names = ['neutral', 'happiness', 'surprise', 'sadness', 'anger', 'disgust', 'fear', 'contempt',\r\n",
        "                        'unknown', 'NF']\r\n",
        "\r\n",
        "    n_samples = len(data)\r\n",
        "    w = 48\r\n",
        "    h = 48\r\n",
        "    y = np.array(labels[orig_class_names])\r\n",
        "    X = np.zeros((n_samples, w, h, 3))\r\n",
        "    for i in range(n_samples):\r\n",
        "        image = np.fromstring(data['pixels'][i], dtype=int,\r\n",
        "                              sep=' ').reshape((h, w, 1))\r\n",
        "      \r\n",
        "        X[i] = tf.image.grayscale_to_rgb(tf.convert_to_tensor(image))\r\n",
        "      \r\n",
        "\r\n",
        "    return X, y"
      ],
      "execution_count": 8,
      "outputs": []
    },
    {
      "cell_type": "code",
      "metadata": {
        "id": "3KQ21vh9_Soj"
      },
      "source": [
        "def clean_data_and_normalize(X, y):\r\n",
        "    orig_class_names = ['neutral', 'happiness', 'surprise', 'sadness', 'anger', 'disgust', 'fear', 'contempt',\r\n",
        "                        'unknown', 'NF']\r\n",
        "\r\n",
        "    # Using mask to remove unknown or NF images\r\n",
        "    y_mask = y.argmax(axis=-1)\r\n",
        "    mask = y_mask < orig_class_names.index('unknown')\r\n",
        "    X = X[mask]\r\n",
        "    y = y[mask]\r\n",
        "\r\n",
        "    # Convert to probabilities between 0 and 1\r\n",
        "    y = y[:, :-2] * 0.1\r\n",
        "\r\n",
        "    # Add contempt to neutral and remove it\r\n",
        "    y[:, 0] += y[:, 7]\r\n",
        "    y = y[:, :7]\r\n",
        "\r\n",
        "    # Normalize image vectors\r\n",
        "    X = X / 255.0\r\n",
        "\r\n",
        "    return X, y"
      ],
      "execution_count": 9,
      "outputs": []
    },
    {
      "cell_type": "code",
      "metadata": {
        "id": "uAhEs-xp-mvJ"
      },
      "source": [
        "def split_data(X, y):\r\n",
        "    test_size = ceil(len(X) * 0.1)\r\n",
        "\r\n",
        "    # Split Data\r\n",
        "    x_train, x_test, y_train, y_test = model_selection.train_test_split(\r\n",
        "        X, y, test_size=test_size, random_state=42)\r\n",
        "    x_train, x_val, y_train, y_val = model_selection.train_test_split(x_train, y_train, test_size=test_size,\r\n",
        "                                                                      random_state=42)\r\n",
        "    return x_train, y_train, x_val, y_val, x_test, y_test\r\n",
        "\r\n",
        "def data_augmentation(x_train):\r\n",
        "    shift = 0.1\r\n",
        "    datagen = ImageDataGenerator(\r\n",
        "        rotation_range=20,\r\n",
        "        horizontal_flip=True,\r\n",
        "        height_shift_range=shift,\r\n",
        "        width_shift_range=shift)\r\n",
        "    datagen.fit(x_train)\r\n",
        "    return datagen"
      ],
      "execution_count": 10,
      "outputs": []
    },
    {
      "cell_type": "code",
      "metadata": {
        "id": "PKHjY4YS_sQH",
        "colab": {
          "base_uri": "https://localhost:8080/"
        },
        "outputId": "638164d1-13eb-44d5-cd3c-2ccb32f1d060"
      },
      "source": [
        "bs = 64\r\n",
        "lr = 0.0001\r\n",
        "size = (48, 48)\r\n",
        "shape = (48, 48, 3)\r\n",
        "epochs = 100\r\n",
        "fileSave = \"facial_expression.model\"\r\n",
        "data = pd.read_csv('/content/drive/MyDrive/colab/fer2013.csv')\r\n",
        "labels = pd.read_csv('/content/drive/MyDrive/colab/fer2013new.csv')\r\n",
        "print(data)\r\n",
        "print(labels)\r\n",
        "X, y = preprocess_data(data,labels)\r\n",
        "X, y = clean_data_and_normalize(X, y)\r\n",
        "x_train, y_train, x_val, y_val, x_test, y_test = split_data(X, y)\r\n",
        "datagen = data_augmentation(x_train)"
      ],
      "execution_count": 11,
      "outputs": [
        {
          "output_type": "stream",
          "text": [
            "       emotion                                             pixels        Usage\n",
            "0            0  70 80 82 72 58 58 60 63 54 58 60 48 89 115 121...     Training\n",
            "1            0  151 150 147 155 148 133 111 140 170 174 182 15...     Training\n",
            "2            2  231 212 156 164 174 138 161 173 182 200 106 38...     Training\n",
            "3            4  24 32 36 30 32 23 19 20 30 41 21 22 32 34 21 1...     Training\n",
            "4            6  4 0 0 0 0 0 0 0 0 0 0 0 3 15 23 28 48 50 58 84...     Training\n",
            "...        ...                                                ...          ...\n",
            "35882        6  50 36 17 22 23 29 33 39 34 37 37 37 39 43 48 5...  PrivateTest\n",
            "35883        3  178 174 172 173 181 188 191 194 196 199 200 20...  PrivateTest\n",
            "35884        0  17 17 16 23 28 22 19 17 25 26 20 24 31 19 27 9...  PrivateTest\n",
            "35885        3  30 28 28 29 31 30 42 68 79 81 77 67 67 71 63 6...  PrivateTest\n",
            "35886        2  19 13 14 12 13 16 21 33 50 57 71 84 97 108 122...  PrivateTest\n",
            "\n",
            "[35887 rows x 3 columns]\n",
            "             Usage      Image name  neutral  ...  contempt  unknown  NF\n",
            "0         Training  fer0000000.png        4  ...         0        0   0\n",
            "1         Training  fer0000001.png        6  ...         0        2   0\n",
            "2         Training  fer0000002.png        5  ...         0        1   0\n",
            "3         Training  fer0000003.png        4  ...         0        1   0\n",
            "4         Training  fer0000004.png        9  ...         0        0   0\n",
            "...            ...             ...      ...  ...       ...      ...  ..\n",
            "35882  PrivateTest  fer0035797.png        8  ...         0        0   0\n",
            "35883  PrivateTest             NaN        0  ...         0        0  10\n",
            "35884  PrivateTest  fer0035799.png        0  ...         2        0   0\n",
            "35885  PrivateTest  fer0035800.png        0  ...         0        0   0\n",
            "35886  PrivateTest  fer0035801.png        2  ...         0        1   0\n",
            "\n",
            "[35887 rows x 12 columns]\n"
          ],
          "name": "stdout"
        }
      ]
    },
    {
      "cell_type": "code",
      "metadata": {
        "id": "KE5hbsbZEuzp",
        "colab": {
          "base_uri": "https://localhost:8080/"
        },
        "outputId": "f0cea0dd-89c6-4870-9b3f-9577e571c13f"
      },
      "source": [
        "net_type_to_model = {\n",
        "        'XM': Xception_model,\n",
        "    }\n",
        "model_name =\"XM\"\n",
        "model_builder = net_type_to_model.get(model_name)\n",
        "model = model_builder(lr, shape)\n",
        "model.summary()\n"
      ],
      "execution_count": 12,
      "outputs": [
        {
          "output_type": "stream",
          "text": [
            "Model: \"sequential\"\n",
            "_________________________________________________________________\n",
            "Layer (type)                 Output Shape              Param #   \n",
            "=================================================================\n",
            "xception (Functional)        (None, 2, 2, 2048)        20861480  \n",
            "_________________________________________________________________\n",
            "flatten (Flatten)            (None, 8192)              0         \n",
            "_________________________________________________________________\n",
            "dense (Dense)                (None, 8192)              67117056  \n",
            "_________________________________________________________________\n",
            "dropout (Dropout)            (None, 8192)              0         \n",
            "_________________________________________________________________\n",
            "dense_1 (Dense)              (None, 8192)              67117056  \n",
            "_________________________________________________________________\n",
            "dropout_1 (Dropout)          (None, 8192)              0         \n",
            "_________________________________________________________________\n",
            "dense_2 (Dense)              (None, 7)                 57351     \n",
            "=================================================================\n",
            "Total params: 155,152,943\n",
            "Trainable params: 139,040,263\n",
            "Non-trainable params: 16,112,680\n",
            "_________________________________________________________________\n"
          ],
          "name": "stdout"
        }
      ]
    },
    {
      "cell_type": "code",
      "metadata": {
        "id": "YsYQYx3mH2jS"
      },
      "source": [
        "earlystop = EarlyStopping(monitor='val_loss', patience=5, mode='auto')\r\n",
        "tensorboard = TensorBoard(log_dir=os.path.join(\"logs\", model_name))\r\n",
        "checkpoint = ModelCheckpoint(os.path.join(\"results\", f\"{model_name}\" + f\"-size-{size[0]}\" +\r\n",
        "                                              f\"-bs-{bs}\" + f\"-lr-{lr}.h5\"),\r\n",
        "                                 monitor='val_loss', save_best_only=True, verbose=1)\r\n"
      ],
      "execution_count": 13,
      "outputs": []
    },
    {
      "cell_type": "code",
      "metadata": {
        "id": "8MHJ9mPCIE_r",
        "colab": {
          "base_uri": "https://localhost:8080/"
        },
        "outputId": "2c817930-a566-4d72-bb95-029d5fe5473b"
      },
      "source": [
        "history = model.fit(datagen.flow(x_train, y_train, batch_size=bs), epochs=epochs,\r\n",
        "                        steps_per_epoch=len(x_train) // bs,\r\n",
        "                        batch_size=bs, callbacks=[\r\n",
        "        earlystop, tensorboard, checkpoint], shuffle=True,\r\n",
        "        validation_data=(x_val, y_val), verbose=2)\r\n",
        "print(history)"
      ],
      "execution_count": 14,
      "outputs": [
        {
          "output_type": "stream",
          "text": [
            "Epoch 1/100\n",
            "443/443 - 36s - loss: 0.3243 - accuracy: 0.4879 - val_loss: 0.2967 - val_accuracy: 0.5647\n",
            "\n",
            "Epoch 00001: val_loss improved from inf to 0.29668, saving model to results/XM-size-48-bs-64-lr-0.0001.h5\n",
            "Epoch 2/100\n",
            "443/443 - 30s - loss: 0.2988 - accuracy: 0.5469 - val_loss: 0.2910 - val_accuracy: 0.5768\n",
            "\n",
            "Epoch 00002: val_loss improved from 0.29668 to 0.29096, saving model to results/XM-size-48-bs-64-lr-0.0001.h5\n",
            "Epoch 3/100\n",
            "443/443 - 29s - loss: 0.2907 - accuracy: 0.5688 - val_loss: 0.2836 - val_accuracy: 0.5881\n",
            "\n",
            "Epoch 00003: val_loss improved from 0.29096 to 0.28359, saving model to results/XM-size-48-bs-64-lr-0.0001.h5\n",
            "Epoch 4/100\n",
            "443/443 - 30s - loss: 0.2858 - accuracy: 0.5816 - val_loss: 0.2801 - val_accuracy: 0.6123\n",
            "\n",
            "Epoch 00004: val_loss improved from 0.28359 to 0.28007, saving model to results/XM-size-48-bs-64-lr-0.0001.h5\n",
            "Epoch 5/100\n",
            "443/443 - 30s - loss: 0.2816 - accuracy: 0.5954 - val_loss: 0.2725 - val_accuracy: 0.6233\n",
            "\n",
            "Epoch 00005: val_loss improved from 0.28007 to 0.27254, saving model to results/XM-size-48-bs-64-lr-0.0001.h5\n",
            "Epoch 6/100\n",
            "443/443 - 30s - loss: 0.2765 - accuracy: 0.6067 - val_loss: 0.2828 - val_accuracy: 0.5912\n",
            "\n",
            "Epoch 00006: val_loss did not improve from 0.27254\n",
            "Epoch 7/100\n",
            "443/443 - 30s - loss: 0.2737 - accuracy: 0.6140 - val_loss: 0.2694 - val_accuracy: 0.6298\n",
            "\n",
            "Epoch 00007: val_loss improved from 0.27254 to 0.26935, saving model to results/XM-size-48-bs-64-lr-0.0001.h5\n",
            "Epoch 8/100\n",
            "443/443 - 30s - loss: 0.2703 - accuracy: 0.6246 - val_loss: 0.2687 - val_accuracy: 0.6376\n",
            "\n",
            "Epoch 00008: val_loss improved from 0.26935 to 0.26868, saving model to results/XM-size-48-bs-64-lr-0.0001.h5\n",
            "Epoch 9/100\n",
            "443/443 - 30s - loss: 0.2674 - accuracy: 0.6314 - val_loss: 0.2643 - val_accuracy: 0.6393\n",
            "\n",
            "Epoch 00009: val_loss improved from 0.26868 to 0.26432, saving model to results/XM-size-48-bs-64-lr-0.0001.h5\n",
            "Epoch 10/100\n",
            "443/443 - 30s - loss: 0.2661 - accuracy: 0.6310 - val_loss: 0.2669 - val_accuracy: 0.6391\n",
            "\n",
            "Epoch 00010: val_loss did not improve from 0.26432\n",
            "Epoch 11/100\n",
            "443/443 - 30s - loss: 0.2637 - accuracy: 0.6429 - val_loss: 0.2667 - val_accuracy: 0.6436\n",
            "\n",
            "Epoch 00011: val_loss did not improve from 0.26432\n",
            "Epoch 12/100\n",
            "443/443 - 30s - loss: 0.2610 - accuracy: 0.6468 - val_loss: 0.2671 - val_accuracy: 0.6430\n",
            "\n",
            "Epoch 00012: val_loss did not improve from 0.26432\n",
            "Epoch 13/100\n",
            "443/443 - 30s - loss: 0.2590 - accuracy: 0.6512 - val_loss: 0.2810 - val_accuracy: 0.6103\n",
            "\n",
            "Epoch 00013: val_loss did not improve from 0.26432\n",
            "Epoch 14/100\n",
            "443/443 - 30s - loss: 0.2576 - accuracy: 0.6590 - val_loss: 0.2580 - val_accuracy: 0.6644\n",
            "\n",
            "Epoch 00014: val_loss improved from 0.26432 to 0.25804, saving model to results/XM-size-48-bs-64-lr-0.0001.h5\n",
            "Epoch 15/100\n",
            "443/443 - 30s - loss: 0.2553 - accuracy: 0.6631 - val_loss: 0.2614 - val_accuracy: 0.6571\n",
            "\n",
            "Epoch 00015: val_loss did not improve from 0.25804\n",
            "Epoch 16/100\n",
            "443/443 - 30s - loss: 0.2541 - accuracy: 0.6658 - val_loss: 0.2619 - val_accuracy: 0.6495\n",
            "\n",
            "Epoch 00016: val_loss did not improve from 0.25804\n",
            "Epoch 17/100\n",
            "443/443 - 29s - loss: 0.2521 - accuracy: 0.6734 - val_loss: 0.2605 - val_accuracy: 0.6520\n",
            "\n",
            "Epoch 00017: val_loss did not improve from 0.25804\n",
            "Epoch 18/100\n",
            "443/443 - 29s - loss: 0.2511 - accuracy: 0.6743 - val_loss: 0.2667 - val_accuracy: 0.6523\n",
            "\n",
            "Epoch 00018: val_loss did not improve from 0.25804\n",
            "Epoch 19/100\n",
            "443/443 - 30s - loss: 0.2498 - accuracy: 0.6775 - val_loss: 0.2602 - val_accuracy: 0.6653\n",
            "\n",
            "Epoch 00019: val_loss did not improve from 0.25804\n",
            "<tensorflow.python.keras.callbacks.History object at 0x7f9b10220f60>\n"
          ],
          "name": "stdout"
        }
      ]
    },
    {
      "cell_type": "code",
      "metadata": {
        "id": "doDF7mOzIIiw",
        "colab": {
          "base_uri": "https://localhost:8080/"
        },
        "outputId": "7379e3ff-48c2-4fb6-a8c6-e9657e0b89df"
      },
      "source": [
        "test_loss, test_accuracy = model.evaluate(\r\n",
        "        x_test, y_test, batch_size=bs)\r\n",
        "metrics = pd.DataFrame(history.history)"
      ],
      "execution_count": 15,
      "outputs": [
        {
          "output_type": "stream",
          "text": [
            "56/56 [==============================] - 1s 22ms/step - loss: 0.2645 - accuracy: 0.6405\n"
          ],
          "name": "stdout"
        }
      ]
    },
    {
      "cell_type": "code",
      "metadata": {
        "id": "ze3rooH0IIxJ",
        "colab": {
          "base_uri": "https://localhost:8080/"
        },
        "outputId": "4308d593-be55-4406-890c-7a853bb22efd"
      },
      "source": [
        "print(metrics.head(10))\r\n",
        "\r\n",
        "print('test_loss: ', test_loss)\r\n",
        "print('test_accuracy: ', test_accuracy)\r\n",
        "print('Memory consumption: %s bytes' %\r\n",
        "          keras_model_memory_usage_in_bytes(model, batch_size=bs))\r\n",
        "\r\n",
        "    # save_model_and_weights(model, test_accuracy)\r\n",
        "    # model.save(model_name+'_'+fileSave, save_format=\"h5\")"
      ],
      "execution_count": 16,
      "outputs": [
        {
          "output_type": "stream",
          "text": [
            "       loss  accuracy  val_loss  val_accuracy\n",
            "0  0.324310  0.487926  0.296681      0.564666\n",
            "1  0.298836  0.546883  0.290963      0.576782\n",
            "2  0.290700  0.568841  0.283595      0.588053\n",
            "3  0.285789  0.581621  0.280066      0.612285\n",
            "4  0.281625  0.595425  0.272538      0.623274\n",
            "5  0.276496  0.606722  0.282800      0.591152\n",
            "6  0.273709  0.613959  0.269353      0.629755\n",
            "7  0.270320  0.624585  0.268684      0.637644\n",
            "8  0.267356  0.631363  0.264316      0.639335\n",
            "9  0.266065  0.630975  0.266918      0.639053\n",
            "test_loss:  0.2645392417907715\n",
            "test_accuracy:  0.6404621005058289\n",
            "Memory consumption: 569641815 bytes\n"
          ],
          "name": "stdout"
        }
      ]
    },
    {
      "cell_type": "code",
      "metadata": {
        "id": "1V9QfOPVII2b",
        "colab": {
          "base_uri": "https://localhost:8080/",
          "height": 163
        },
        "outputId": "612bad21-1c81-4ac5-91f0-e071059c24eb"
      },
      "source": [
        "\r\n",
        "plt.subplot(211)\r\n",
        "plt.title('Loss')\r\n",
        "plt.plot(history.history['loss'], label='train')\r\n",
        "plt.plot(history.history['val_loss'], label='test')\r\n",
        "plt.legend()\r\n",
        "plt.show()"
      ],
      "execution_count": 17,
      "outputs": [
        {
          "output_type": "display_data",
          "data": {
            "image/png": "[encoded data removed]",
            "text/plain": [
              "<Figure size 432x288 with 1 Axes>"
            ]
          },
          "metadata": {
            "tags": [],
            "needs_background": "light"
          }
        }
      ]
    },
    {
      "cell_type": "code",
      "metadata": {
        "id": "wydjT6dvL_E3",
        "colab": {
          "base_uri": "https://localhost:8080/",
          "height": 163
        },
        "outputId": "02d380c7-d160-4cb5-b24e-e7b2d0369709"
      },
      "source": [
        "plt.subplot(212)\r\n",
        "plt.title('Accuracy')\r\n",
        "plt.plot(history.history['accuracy'], label='train')\r\n",
        "plt.plot(history.history['val_accuracy'], label='test')\r\n",
        "plt.legend()\r\n",
        "plt.show()"
      ],
      "execution_count": 18,
      "outputs": [
        {
          "output_type": "display_data",
          "data": {
            "image/png": "[encoded data removed]",
            "text/plain": [
              "<Figure size 432x288 with 1 Axes>"
            ]
          },
          "metadata": {
            "tags": [],
            "needs_background": "light"
          }
        }
      ]
    }
  ]
}