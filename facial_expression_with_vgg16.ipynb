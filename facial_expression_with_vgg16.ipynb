{
  "nbformat": 4,
  "nbformat_minor": 0,
  "metadata": {
    "orig_nbformat": 2,
    "colab": {
      "name": "facial-expression-with-vgg16.ipynb",
      "provenance": [],
      "collapsed_sections": [],
      "include_colab_link": true
    },
    "kernelspec": {
      "name": "python3",
      "display_name": "Python 3"
    },
    "accelerator": "GPU"
  },
  "cells": [
    {
      "cell_type": "markdown",
      "metadata": {
        "id": "view-in-github",
        "colab_type": "text"
      },
      "source": [
        "<a href=\"https://colab.research.google.com/github/ohmji/cnn-facial-expression-transfer-learning/blob/main/facial_expression_with_vgg16.ipynb\" target=\"_parent\"><img src=\"https://colab.research.google.com/assets/colab-badge.svg\" alt=\"Open In Colab\"/></a>"
      ]
    },
    {
      "cell_type": "code",
      "metadata": {
        "id": "Xx8fHjCJ9R8b"
      },
      "source": [
        "import tensorflow as tf\r\n",
        "from tensorflow.keras.models import Sequential\r\n",
        "from tensorflow.keras.models import Model\r\n",
        "from tensorflow.keras.callbacks import ModelCheckpoint, TensorBoard, EarlyStopping\r\n",
        "from tensorflow.keras.optimizers import Adam\r\n",
        "from tensorflow.keras.preprocessing.image import ImageDataGenerator\r\n",
        "from tensorflow.keras.applications import MobileNetV2, Xception, VGG16, InceptionV3\r\n",
        "from tensorflow.keras.layers import Conv2D, MaxPool2D, MaxPooling2D, Dropout, \\\r\n",
        "    Flatten, Dense, BatchNormalization, \\\r\n",
        "    SpatialDropout2D, AveragePooling2D, Input, GlobalAveragePooling2D, Activation, ZeroPadding2D, Convolution2D\r\n",
        "import os\r\n",
        "import cv2\r\n",
        "import warnings\r\n",
        "import argparse\r\n",
        "import numpy as np\r\n",
        "import pandas as pd\r\n",
        "import matplotlib.pyplot as plt\r\n",
        "from math import ceil\r\n",
        "from sklearn import model_selection"
      ],
      "execution_count": 1,
      "outputs": []
    },
    {
      "cell_type": "code",
      "metadata": {
        "id": "iSg68xKa-I6M"
      },
      "source": [
        "physical_devices = tf.config.list_physical_devices('GPU')"
      ],
      "execution_count": 2,
      "outputs": []
    },
    {
      "cell_type": "code",
      "metadata": {
        "colab": {
          "base_uri": "https://localhost:8080/"
        },
        "id": "jasiRKwKE1cN",
        "outputId": "df44a859-defa-4774-d2bd-5e7a49bdf298"
      },
      "source": [
        "from google.colab import drive\r\n",
        "drive.mount('/content/drive')"
      ],
      "execution_count": 3,
      "outputs": [
        {
          "output_type": "stream",
          "text": [
            "Drive already mounted at /content/drive; to attempt to forcibly remount, call drive.mount(\"/content/drive\", force_remount=True).\n"
          ],
          "name": "stdout"
        }
      ]
    },
    {
      "cell_type": "code",
      "metadata": {
        "colab": {
          "base_uri": "https://localhost:8080/"
        },
        "id": "4GZBhNgv-PrG",
        "outputId": "fd5ac70b-48dc-4635-d19f-4f07eb6c6673"
      },
      "source": [
        "print(physical_devices)"
      ],
      "execution_count": 4,
      "outputs": [
        {
          "output_type": "stream",
          "text": [
            "[PhysicalDevice(name='/physical_device:GPU:0', device_type='GPU')]\n"
          ],
          "name": "stdout"
        }
      ]
    },
    {
      "cell_type": "code",
      "metadata": {
        "id": "7WlinNOv-WA9"
      },
      "source": [
        "tf.config.experimental.set_memory_growth(physical_devices[0], True)\r\n",
        "tf.get_logger().setLevel('WARNING')"
      ],
      "execution_count": 5,
      "outputs": []
    },
    {
      "cell_type": "code",
      "metadata": {
        "id": "8pdZdSRW-iZB"
      },
      "source": [
        "def VGG16_model(learning_rate, input_shape):\r\n",
        "    baseModel = VGG16(weights='imagenet',\r\n",
        "                      include_top=False,\r\n",
        "                      input_tensor=Input(shape=input_shape)\r\n",
        "                      )\r\n",
        "    model = Sequential()\r\n",
        "    model.add(baseModel)\r\n",
        "\r\n",
        "    for layer in baseModel.layers[:-7]:\r\n",
        "        layer.trainable = False\r\n",
        "\r\n",
        "    model.add(Flatten())\r\n",
        "\r\n",
        "    # Fully connected neural networks\r\n",
        "    model.add(Dense(512, activation='relu'))\r\n",
        "    model.add(Dropout(0.2))\r\n",
        "    model.add(Dense(512, activation='relu'))\r\n",
        "    model.add(Dropout(0.2))\r\n",
        "\r\n",
        "    model.add(Dense(7, activation='softmax'))\r\n",
        "\r\n",
        "    model.compile(loss=\"binary_crossentropy\", metrics=[\"accuracy\"],\r\n",
        "                  optimizer=Adam(learning_rate=learning_rate))\r\n",
        "    return model"
      ],
      "execution_count": 6,
      "outputs": []
    },
    {
      "cell_type": "code",
      "metadata": {
        "id": "miB1StdO_H3L"
      },
      "source": [
        "def keras_model_memory_usage_in_bytes(model, *, batch_size: int):\r\n",
        "    \"\"\"\r\n",
        "    Return the estimated memory usage of a given Keras model in bytes.\r\n",
        "    Ref: https://stackoverflow.com/a/64359137\r\n",
        "    \"\"\"\r\n",
        "    default_dtype = tf.keras.backend.floatx()\r\n",
        "    shapes_mem_count = 0\r\n",
        "    internal_model_mem_count = 0\r\n",
        "    for layer in model.layers:\r\n",
        "        if isinstance(layer, tf.keras.Model):\r\n",
        "            internal_model_mem_count += keras_model_memory_usage_in_bytes(\r\n",
        "                layer, batch_size=batch_size)\r\n",
        "        single_layer_mem = tf.as_dtype(layer.dtype or default_dtype).size\r\n",
        "        out_shape = layer.output_shape\r\n",
        "        if isinstance(out_shape, list):\r\n",
        "            out_shape = out_shape[0]\r\n",
        "        for s in out_shape:\r\n",
        "            if s is None:\r\n",
        "                continue\r\n",
        "            single_layer_mem *= s\r\n",
        "        shapes_mem_count += single_layer_mem\r\n",
        "\r\n",
        "    trainable_count = sum([tf.keras.backend.count_params(p)\r\n",
        "                           for p in model.trainable_weights])\r\n",
        "    non_trainable_count = sum([tf.keras.backend.count_params(p)\r\n",
        "                               for p in model.non_trainable_weights])\r\n",
        "\r\n",
        "    total_memory = (batch_size * shapes_mem_count + internal_model_mem_count\r\n",
        "                    + trainable_count + non_trainable_count)\r\n",
        "    return total_memory\r\n"
      ],
      "execution_count": 7,
      "outputs": []
    },
    {
      "cell_type": "code",
      "metadata": {
        "id": "lxWVbkaM_Kr2"
      },
      "source": [
        "def preprocess_data(data,labels):\r\n",
        "    \r\n",
        "\r\n",
        "    orig_class_names = ['neutral', 'happiness', 'surprise', 'sadness', 'anger', 'disgust', 'fear', 'contempt',\r\n",
        "                        'unknown', 'NF']\r\n",
        "\r\n",
        "    n_samples = len(data)\r\n",
        "    w = 48\r\n",
        "    h = 48\r\n",
        "    y = np.array(labels[orig_class_names])\r\n",
        "    X = np.zeros((n_samples, w, h, 3))\r\n",
        "    for i in range(n_samples):\r\n",
        "        image = np.fromstring(data['pixels'][i], dtype=int,\r\n",
        "                              sep=' ').reshape((h, w, 1))\r\n",
        "      \r\n",
        "        X[i] = tf.image.grayscale_to_rgb(tf.convert_to_tensor(image))\r\n",
        "      \r\n",
        "\r\n",
        "    return X, y"
      ],
      "execution_count": 8,
      "outputs": []
    },
    {
      "cell_type": "code",
      "metadata": {
        "id": "3KQ21vh9_Soj"
      },
      "source": [
        "def clean_data_and_normalize(X, y):\r\n",
        "    orig_class_names = ['neutral', 'happiness', 'surprise', 'sadness', 'anger', 'disgust', 'fear', 'contempt',\r\n",
        "                        'unknown', 'NF']\r\n",
        "\r\n",
        "    # Using mask to remove unknown or NF images\r\n",
        "    y_mask = y.argmax(axis=-1)\r\n",
        "    mask = y_mask < orig_class_names.index('unknown')\r\n",
        "    X = X[mask]\r\n",
        "    y = y[mask]\r\n",
        "\r\n",
        "    # Convert to probabilities between 0 and 1\r\n",
        "    y = y[:, :-2] * 0.1\r\n",
        "\r\n",
        "    # Add contempt to neutral and remove it\r\n",
        "    y[:, 0] += y[:, 7]\r\n",
        "    y = y[:, :7]\r\n",
        "\r\n",
        "    # Normalize image vectors\r\n",
        "    X = X / 255.0\r\n",
        "\r\n",
        "    return X, y"
      ],
      "execution_count": 9,
      "outputs": []
    },
    {
      "cell_type": "code",
      "metadata": {
        "id": "uAhEs-xp-mvJ"
      },
      "source": [
        "def split_data(X, y):\r\n",
        "    test_size = ceil(len(X) * 0.1)\r\n",
        "\r\n",
        "    # Split Data\r\n",
        "    x_train, x_test, y_train, y_test = model_selection.train_test_split(\r\n",
        "        X, y, test_size=test_size, random_state=42)\r\n",
        "    x_train, x_val, y_train, y_val = model_selection.train_test_split(x_train, y_train, test_size=test_size,\r\n",
        "                                                                      random_state=42)\r\n",
        "    return x_train, y_train, x_val, y_val, x_test, y_test\r\n",
        "\r\n",
        "def data_augmentation(x_train):\r\n",
        "    shift = 0.1\r\n",
        "    datagen = ImageDataGenerator(\r\n",
        "        rotation_range=20,\r\n",
        "        horizontal_flip=True,\r\n",
        "        height_shift_range=shift,\r\n",
        "        width_shift_range=shift)\r\n",
        "    datagen.fit(x_train)\r\n",
        "    return datagen"
      ],
      "execution_count": 10,
      "outputs": []
    },
    {
      "cell_type": "code",
      "metadata": {
        "colab": {
          "base_uri": "https://localhost:8080/"
        },
        "id": "PKHjY4YS_sQH",
        "outputId": "c14a878b-3be0-4d3b-86a4-0093c8950bbe"
      },
      "source": [
        "bs = 64\r\n",
        "lr = 0.0001\r\n",
        "size = (48, 48)\r\n",
        "shape = (48, 48, 3)\r\n",
        "epochs = 100\r\n",
        "fileSave = \"facial_expression.model\"\r\n",
        "data = pd.read_csv('/content/drive/MyDrive/colab/fer2013.csv')\r\n",
        "labels = pd.read_csv('/content/drive/MyDrive/colab/fer2013new.csv')\r\n",
        "print(data)\r\n",
        "print(labels)\r\n",
        "X, y = preprocess_data(data,labels)\r\n",
        "X, y = clean_data_and_normalize(X, y)\r\n",
        "x_train, y_train, x_val, y_val, x_test, y_test = split_data(X, y)\r\n",
        "datagen = data_augmentation(x_train)"
      ],
      "execution_count": 11,
      "outputs": [
        {
          "output_type": "stream",
          "text": [
            "       emotion                                             pixels        Usage\n",
            "0            0  70 80 82 72 58 58 60 63 54 58 60 48 89 115 121...     Training\n",
            "1            0  151 150 147 155 148 133 111 140 170 174 182 15...     Training\n",
            "2            2  231 212 156 164 174 138 161 173 182 200 106 38...     Training\n",
            "3            4  24 32 36 30 32 23 19 20 30 41 21 22 32 34 21 1...     Training\n",
            "4            6  4 0 0 0 0 0 0 0 0 0 0 0 3 15 23 28 48 50 58 84...     Training\n",
            "...        ...                                                ...          ...\n",
            "35882        6  50 36 17 22 23 29 33 39 34 37 37 37 39 43 48 5...  PrivateTest\n",
            "35883        3  178 174 172 173 181 188 191 194 196 199 200 20...  PrivateTest\n",
            "35884        0  17 17 16 23 28 22 19 17 25 26 20 24 31 19 27 9...  PrivateTest\n",
            "35885        3  30 28 28 29 31 30 42 68 79 81 77 67 67 71 63 6...  PrivateTest\n",
            "35886        2  19 13 14 12 13 16 21 33 50 57 71 84 97 108 122...  PrivateTest\n",
            "\n",
            "[35887 rows x 3 columns]\n",
            "             Usage      Image name  neutral  ...  contempt  unknown  NF\n",
            "0         Training  fer0000000.png        4  ...         0        0   0\n",
            "1         Training  fer0000001.png        6  ...         0        2   0\n",
            "2         Training  fer0000002.png        5  ...         0        1   0\n",
            "3         Training  fer0000003.png        4  ...         0        1   0\n",
            "4         Training  fer0000004.png        9  ...         0        0   0\n",
            "...            ...             ...      ...  ...       ...      ...  ..\n",
            "35882  PrivateTest  fer0035797.png        8  ...         0        0   0\n",
            "35883  PrivateTest             NaN        0  ...         0        0  10\n",
            "35884  PrivateTest  fer0035799.png        0  ...         2        0   0\n",
            "35885  PrivateTest  fer0035800.png        0  ...         0        0   0\n",
            "35886  PrivateTest  fer0035801.png        2  ...         0        1   0\n",
            "\n",
            "[35887 rows x 12 columns]\n"
          ],
          "name": "stdout"
        }
      ]
    },
    {
      "cell_type": "code",
      "metadata": {
        "colab": {
          "base_uri": "https://localhost:8080/"
        },
        "id": "KE5hbsbZEuzp",
        "outputId": "fc5ef0d1-e530-4ed0-f178-8e20c1b0c461"
      },
      "source": [
        "net_type_to_model = {\n",
        "        'VGG16': VGG16_model,\n",
        "    }\n",
        "model_name =\"VGG16\"\n",
        "model_builder = net_type_to_model.get(model_name)\n",
        "model = model_builder(lr, shape)\n",
        "model.summary()\n"
      ],
      "execution_count": 12,
      "outputs": [
        {
          "output_type": "stream",
          "text": [
            "Model: \"sequential\"\n",
            "_________________________________________________________________\n",
            "Layer (type)                 Output Shape              Param #   \n",
            "=================================================================\n",
            "vgg16 (Functional)           (None, 1, 1, 512)         14714688  \n",
            "_________________________________________________________________\n",
            "flatten (Flatten)            (None, 512)               0         \n",
            "_________________________________________________________________\n",
            "dense (Dense)                (None, 512)               262656    \n",
            "_________________________________________________________________\n",
            "dropout (Dropout)            (None, 512)               0         \n",
            "_________________________________________________________________\n",
            "dense_1 (Dense)              (None, 512)               262656    \n",
            "_________________________________________________________________\n",
            "dropout_1 (Dropout)          (None, 512)               0         \n",
            "_________________________________________________________________\n",
            "dense_2 (Dense)              (None, 7)                 3591      \n",
            "=================================================================\n",
            "Total params: 15,243,591\n",
            "Trainable params: 12,327,943\n",
            "Non-trainable params: 2,915,648\n",
            "_________________________________________________________________\n"
          ],
          "name": "stdout"
        }
      ]
    },
    {
      "cell_type": "code",
      "metadata": {
        "id": "YsYQYx3mH2jS"
      },
      "source": [
        "earlystop = EarlyStopping(monitor='val_loss', patience=5, mode='auto')\r\n",
        "tensorboard = TensorBoard(log_dir=os.path.join(\"logs\", model_name))\r\n",
        "checkpoint = ModelCheckpoint(os.path.join(\"results\", f\"{model_name}\" + f\"-size-{size[0]}\" +\r\n",
        "                                              f\"-bs-{bs}\" + f\"-lr-{lr}.h5\"),\r\n",
        "                                 monitor='val_loss', save_best_only=True, verbose=1)\r\n"
      ],
      "execution_count": 13,
      "outputs": []
    },
    {
      "cell_type": "code",
      "metadata": {
        "colab": {
          "base_uri": "https://localhost:8080/"
        },
        "id": "8MHJ9mPCIE_r",
        "outputId": "a4cf0d7b-c556-42ef-ed8d-96f4751d175d"
      },
      "source": [
        "history = model.fit(datagen.flow(x_train, y_train, batch_size=bs), epochs=epochs,\r\n",
        "                        steps_per_epoch=len(x_train) // bs,\r\n",
        "                        batch_size=bs, callbacks=[\r\n",
        "        earlystop, tensorboard, checkpoint], shuffle=True,\r\n",
        "        validation_data=(x_val, y_val), verbose=2)\r\n",
        "print(history)"
      ],
      "execution_count": 14,
      "outputs": [
        {
          "output_type": "stream",
          "text": [
            "Epoch 1/100\n",
            "443/443 - 27s - loss: 0.2930 - accuracy: 0.5739 - val_loss: 0.2491 - val_accuracy: 0.6765\n",
            "\n",
            "Epoch 00001: val_loss improved from inf to 0.24907, saving model to results/VGG16-size-48-bs-64-lr-0.0001.h5\n",
            "Epoch 2/100\n",
            "443/443 - 24s - loss: 0.2513 - accuracy: 0.6748 - val_loss: 0.2314 - val_accuracy: 0.7284\n",
            "\n",
            "Epoch 00002: val_loss improved from 0.24907 to 0.23138, saving model to results/VGG16-size-48-bs-64-lr-0.0001.h5\n",
            "Epoch 3/100\n",
            "443/443 - 24s - loss: 0.2386 - accuracy: 0.7075 - val_loss: 0.2251 - val_accuracy: 0.7377\n",
            "\n",
            "Epoch 00003: val_loss improved from 0.23138 to 0.22505, saving model to results/VGG16-size-48-bs-64-lr-0.0001.h5\n",
            "Epoch 4/100\n",
            "443/443 - 24s - loss: 0.2301 - accuracy: 0.7273 - val_loss: 0.2237 - val_accuracy: 0.7419\n",
            "\n",
            "Epoch 00004: val_loss improved from 0.22505 to 0.22368, saving model to results/VGG16-size-48-bs-64-lr-0.0001.h5\n",
            "Epoch 5/100\n",
            "443/443 - 24s - loss: 0.2247 - accuracy: 0.7438 - val_loss: 0.2219 - val_accuracy: 0.7422\n",
            "\n",
            "Epoch 00005: val_loss improved from 0.22368 to 0.22191, saving model to results/VGG16-size-48-bs-64-lr-0.0001.h5\n",
            "Epoch 6/100\n",
            "443/443 - 24s - loss: 0.2186 - accuracy: 0.7556 - val_loss: 0.2206 - val_accuracy: 0.7582\n",
            "\n",
            "Epoch 00006: val_loss improved from 0.22191 to 0.22056, saving model to results/VGG16-size-48-bs-64-lr-0.0001.h5\n",
            "Epoch 7/100\n",
            "443/443 - 24s - loss: 0.2147 - accuracy: 0.7660 - val_loss: 0.2158 - val_accuracy: 0.7611\n",
            "\n",
            "Epoch 00007: val_loss improved from 0.22056 to 0.21579, saving model to results/VGG16-size-48-bs-64-lr-0.0001.h5\n",
            "Epoch 8/100\n",
            "443/443 - 24s - loss: 0.2122 - accuracy: 0.7708 - val_loss: 0.2140 - val_accuracy: 0.7664\n",
            "\n",
            "Epoch 00008: val_loss improved from 0.21579 to 0.21402, saving model to results/VGG16-size-48-bs-64-lr-0.0001.h5\n",
            "Epoch 9/100\n",
            "443/443 - 24s - loss: 0.2085 - accuracy: 0.7827 - val_loss: 0.2112 - val_accuracy: 0.7788\n",
            "\n",
            "Epoch 00009: val_loss improved from 0.21402 to 0.21117, saving model to results/VGG16-size-48-bs-64-lr-0.0001.h5\n",
            "Epoch 10/100\n",
            "443/443 - 24s - loss: 0.2054 - accuracy: 0.7915 - val_loss: 0.2094 - val_accuracy: 0.7735\n",
            "\n",
            "Epoch 00010: val_loss improved from 0.21117 to 0.20942, saving model to results/VGG16-size-48-bs-64-lr-0.0001.h5\n",
            "Epoch 11/100\n",
            "443/443 - 24s - loss: 0.2031 - accuracy: 0.7973 - val_loss: 0.2122 - val_accuracy: 0.7729\n",
            "\n",
            "Epoch 00011: val_loss did not improve from 0.20942\n",
            "Epoch 12/100\n",
            "443/443 - 24s - loss: 0.2010 - accuracy: 0.8022 - val_loss: 0.2116 - val_accuracy: 0.7791\n",
            "\n",
            "Epoch 00012: val_loss did not improve from 0.20942\n",
            "Epoch 13/100\n",
            "443/443 - 24s - loss: 0.1985 - accuracy: 0.8104 - val_loss: 0.2137 - val_accuracy: 0.7684\n",
            "\n",
            "Epoch 00013: val_loss did not improve from 0.20942\n",
            "Epoch 14/100\n",
            "443/443 - 24s - loss: 0.1962 - accuracy: 0.8140 - val_loss: 0.2093 - val_accuracy: 0.7816\n",
            "\n",
            "Epoch 00014: val_loss improved from 0.20942 to 0.20930, saving model to results/VGG16-size-48-bs-64-lr-0.0001.h5\n",
            "Epoch 15/100\n",
            "443/443 - 24s - loss: 0.1939 - accuracy: 0.8228 - val_loss: 0.2119 - val_accuracy: 0.7566\n",
            "\n",
            "Epoch 00015: val_loss did not improve from 0.20930\n",
            "Epoch 16/100\n",
            "443/443 - 24s - loss: 0.1925 - accuracy: 0.8221 - val_loss: 0.2086 - val_accuracy: 0.7836\n",
            "\n",
            "Epoch 00016: val_loss improved from 0.20930 to 0.20861, saving model to results/VGG16-size-48-bs-64-lr-0.0001.h5\n",
            "Epoch 17/100\n",
            "443/443 - 24s - loss: 0.1907 - accuracy: 0.8272 - val_loss: 0.2078 - val_accuracy: 0.7780\n",
            "\n",
            "Epoch 00017: val_loss improved from 0.20861 to 0.20776, saving model to results/VGG16-size-48-bs-64-lr-0.0001.h5\n",
            "Epoch 18/100\n",
            "443/443 - 24s - loss: 0.1888 - accuracy: 0.8363 - val_loss: 0.2089 - val_accuracy: 0.7816\n",
            "\n",
            "Epoch 00018: val_loss did not improve from 0.20776\n",
            "Epoch 19/100\n",
            "443/443 - 24s - loss: 0.1877 - accuracy: 0.8380 - val_loss: 0.2072 - val_accuracy: 0.7901\n",
            "\n",
            "Epoch 00019: val_loss improved from 0.20776 to 0.20721, saving model to results/VGG16-size-48-bs-64-lr-0.0001.h5\n",
            "Epoch 20/100\n",
            "443/443 - 24s - loss: 0.1858 - accuracy: 0.8417 - val_loss: 0.2080 - val_accuracy: 0.7960\n",
            "\n",
            "Epoch 00020: val_loss did not improve from 0.20721\n",
            "Epoch 21/100\n",
            "443/443 - 24s - loss: 0.1846 - accuracy: 0.8463 - val_loss: 0.2133 - val_accuracy: 0.7788\n",
            "\n",
            "Epoch 00021: val_loss did not improve from 0.20721\n",
            "Epoch 22/100\n",
            "443/443 - 24s - loss: 0.1824 - accuracy: 0.8510 - val_loss: 0.2115 - val_accuracy: 0.7782\n",
            "\n",
            "Epoch 00022: val_loss did not improve from 0.20721\n",
            "Epoch 23/100\n",
            "443/443 - 24s - loss: 0.1821 - accuracy: 0.8520 - val_loss: 0.2099 - val_accuracy: 0.7828\n",
            "\n",
            "Epoch 00023: val_loss did not improve from 0.20721\n",
            "Epoch 24/100\n",
            "443/443 - 24s - loss: 0.1810 - accuracy: 0.8571 - val_loss: 0.2089 - val_accuracy: 0.7875\n",
            "\n",
            "Epoch 00024: val_loss did not improve from 0.20721\n",
            "<tensorflow.python.keras.callbacks.History object at 0x7f03a0059828>\n"
          ],
          "name": "stdout"
        }
      ]
    },
    {
      "cell_type": "code",
      "metadata": {
        "colab": {
          "base_uri": "https://localhost:8080/"
        },
        "id": "doDF7mOzIIiw",
        "outputId": "10f68809-9d00-491e-9616-d0b83525fcd5"
      },
      "source": [
        "test_loss, test_accuracy = model.evaluate(\r\n",
        "        x_test, y_test, batch_size=bs)\r\n",
        "metrics = pd.DataFrame(history.history)"
      ],
      "execution_count": 15,
      "outputs": [
        {
          "output_type": "stream",
          "text": [
            "56/56 [==============================] - 1s 19ms/step - loss: 0.2085 - accuracy: 0.7844\n"
          ],
          "name": "stdout"
        }
      ]
    },
    {
      "cell_type": "code",
      "metadata": {
        "colab": {
          "base_uri": "https://localhost:8080/"
        },
        "id": "ze3rooH0IIxJ",
        "outputId": "881b1d3f-7613-4689-c155-c794fda8ec29"
      },
      "source": [
        "print(metrics.head(10))\r\n",
        "\r\n",
        "print('test_loss: ', test_loss)\r\n",
        "print('test_accuracy: ', test_accuracy)\r\n",
        "print('Memory consumption: %s bytes' %\r\n",
        "          keras_model_memory_usage_in_bytes(model, batch_size=bs))\r\n",
        "\r\n",
        "    # save_model_and_weights(model, test_accuracy)\r\n",
        "    # model.save(model_name+'_'+fileSave, save_format=\"h5\")"
      ],
      "execution_count": 16,
      "outputs": [
        {
          "output_type": "stream",
          "text": [
            "       loss  accuracy  val_loss  val_accuracy\n",
            "0  0.292966  0.573890  0.249071      0.676529\n",
            "1  0.251327  0.674751  0.231376      0.728374\n",
            "2  0.238592  0.707513  0.225055      0.737673\n",
            "3  0.230102  0.727282  0.223676      0.741899\n",
            "4  0.224680  0.743769  0.221911      0.742181\n",
            "5  0.218585  0.755560  0.220564      0.758242\n",
            "6  0.214722  0.765975  0.215785      0.761059\n",
            "7  0.212164  0.770776  0.214019      0.766413\n",
            "8  0.208494  0.782744  0.211166      0.778811\n",
            "9  0.205418  0.791464  0.209417      0.773457\n",
            "test_loss:  0.20854820311069489\n",
            "test_accuracy:  0.7844462990760803\n",
            "Memory consumption: 209594247 bytes\n"
          ],
          "name": "stdout"
        }
      ]
    },
    {
      "cell_type": "code",
      "metadata": {
        "colab": {
          "base_uri": "https://localhost:8080/",
          "height": 163
        },
        "id": "1V9QfOPVII2b",
        "outputId": "c7719538-a58a-42d4-e21a-379ebceb99ad"
      },
      "source": [
        "\r\n",
        "plt.subplot(211)\r\n",
        "plt.title('Loss')\r\n",
        "plt.plot(history.history['loss'], label='train')\r\n",
        "plt.plot(history.history['val_loss'], label='test')\r\n",
        "plt.legend()\r\n",
        "plt.show()"
      ],
      "execution_count": 17,
      "outputs": [
        {
          "output_type": "display_data",
          "data": {
            "image/png": "[encoded data removed]",
            "text/plain": [
              "<Figure size 432x288 with 1 Axes>"
            ]
          },
          "metadata": {
            "tags": [],
            "needs_background": "light"
          }
        }
      ]
    },
    {
      "cell_type": "code",
      "metadata": {
        "colab": {
          "base_uri": "https://localhost:8080/",
          "height": 163
        },
        "id": "wydjT6dvL_E3",
        "outputId": "d4bd9ba3-a4b4-4615-ab34-9c7864954e8b"
      },
      "source": [
        "plt.subplot(212)\r\n",
        "plt.title('Accuracy')\r\n",
        "plt.plot(history.history['accuracy'], label='train')\r\n",
        "plt.plot(history.history['val_accuracy'], label='test')\r\n",
        "plt.legend()\r\n",
        "plt.show()"
      ],
      "execution_count": 18,
      "outputs": [
        {
          "output_type": "display_data",
          "data": {
            "image/png": "[encoded data removed]",
            "text/plain": [
              "<Figure size 432x288 with 1 Axes>"
            ]
          },
          "metadata": {
            "tags": [],
            "needs_background": "light"
          }
        }
      ]
    }
  ]
}