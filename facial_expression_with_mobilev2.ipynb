{
  "nbformat": 4,
  "nbformat_minor": 0,
  "metadata": {
    "orig_nbformat": 2,
    "colab": {
      "name": "facial-expression-with-mobilev2.ipynb",
      "provenance": [],
      "collapsed_sections": [],
      "include_colab_link": true
    },
    "kernelspec": {
      "name": "python3",
      "display_name": "Python 3"
    },
    "accelerator": "GPU"
  },
  "cells": [
    {
      "cell_type": "markdown",
      "metadata": {
        "id": "view-in-github",
        "colab_type": "text"
      },
      "source": [
        "<a href=\"https://colab.research.google.com/github/ohmji/cnn-facial-expression-transfer-learning/blob/main/facial_expression_with_mobilev2.ipynb\" target=\"_parent\"><img src=\"https://colab.research.google.com/assets/colab-badge.svg\" alt=\"Open In Colab\"/></a>"
      ]
    },
    {
      "cell_type": "code",
      "metadata": {
        "id": "Xx8fHjCJ9R8b"
      },
      "source": [
        "import tensorflow as tf\r\n",
        "from tensorflow.keras.models import Sequential\r\n",
        "from tensorflow.keras.models import Model\r\n",
        "from tensorflow.keras.callbacks import ModelCheckpoint, TensorBoard, EarlyStopping\r\n",
        "from tensorflow.keras.optimizers import Adam\r\n",
        "from tensorflow.keras.preprocessing.image import ImageDataGenerator\r\n",
        "from tensorflow.keras.applications import MobileNetV2\r\n",
        "from tensorflow.keras import layers\r\n",
        "from tensorflow.keras.layers import Conv2D, MaxPool2D, MaxPooling2D, Dropout, \\\r\n",
        "    Flatten, Dense, BatchNormalization, \\\r\n",
        "    SpatialDropout2D, AveragePooling2D, Input, GlobalAveragePooling2D, Activation, ZeroPadding2D, Convolution2D\r\n",
        "import os\r\n",
        "import cv2\r\n",
        "import warnings\r\n",
        "import argparse\r\n",
        "import numpy as np\r\n",
        "import pandas as pd\r\n",
        "import matplotlib.pyplot as plt\r\n",
        "from math import ceil\r\n",
        "from sklearn import model_selection"
      ],
      "execution_count": 1,
      "outputs": []
    },
    {
      "cell_type": "code",
      "metadata": {
        "id": "iSg68xKa-I6M"
      },
      "source": [
        "physical_devices = tf.config.list_physical_devices('GPU')"
      ],
      "execution_count": 2,
      "outputs": []
    },
    {
      "cell_type": "code",
      "metadata": {
        "id": "jasiRKwKE1cN",
        "colab": {
          "base_uri": "https://localhost:8080/"
        },
        "outputId": "a68d4a19-25a8-4234-b904-cbcee6d7a879"
      },
      "source": [
        "\r\n",
        "from google.colab import drive\r\n",
        "drive.mount('/content/drive')"
      ],
      "execution_count": 3,
      "outputs": [
        {
          "output_type": "stream",
          "text": [
            "Mounted at /content/drive\n"
          ],
          "name": "stdout"
        }
      ]
    },
    {
      "cell_type": "code",
      "metadata": {
        "colab": {
          "base_uri": "https://localhost:8080/"
        },
        "id": "4GZBhNgv-PrG",
        "outputId": "13828b8a-3681-4313-d2f2-58be4fbd996b"
      },
      "source": [
        "print(physical_devices)"
      ],
      "execution_count": 4,
      "outputs": [
        {
          "output_type": "stream",
          "text": [
            "[PhysicalDevice(name='/physical_device:GPU:0', device_type='GPU')]\n"
          ],
          "name": "stdout"
        }
      ]
    },
    {
      "cell_type": "code",
      "metadata": {
        "id": "7WlinNOv-WA9"
      },
      "source": [
        "tf.config.experimental.set_memory_growth(physical_devices[0], True)\r\n",
        "tf.get_logger().setLevel('WARNING')"
      ],
      "execution_count": 5,
      "outputs": []
    },
    {
      "cell_type": "code",
      "metadata": {
        "id": "8pdZdSRW-iZB"
      },
      "source": [
        "def MobileNetV2_model(learning_rate, input_shape):\r\n",
        "    baseModel = MobileNetV2(\r\n",
        "        include_top=False,\r\n",
        "        weights='imagenet',\r\n",
        "        input_tensor=Input(shape=input_shape)\r\n",
        "    )\r\n",
        "\r\n",
        "    base_input = baseModel.layers[0].input\r\n",
        "    base_output = baseModel.layers[-2].output\r\n",
        "\r\n",
        "\r\n",
        "    final_output = layers.Dense(128)(base_output)\r\n",
        "    final_ouput  = layers.Activation('relu')(final_output)\r\n",
        "    final_output = layers.Dense(64)(final_ouput)\r\n",
        "    final_ouput = layers.Activation('relu')(final_output)\r\n",
        "    final_output = layers.Dense(7, activation='softmax')(final_ouput)\r\n",
        "    # model.add(baseModel)\r\n",
        "    # for layer in baseModel.layers[:-2]:\r\n",
        "    #     layer.trainable = False\r\n",
        "\r\n",
        "    # model.add(Flatten())\r\n",
        "    # model.add(Dense(2560, activation='relu'))\r\n",
        "    # model.add(Dropout(0.2))\r\n",
        "    # model.add(Dense(1280, activation='relu'))\r\n",
        "    # model.add(Dropout(0.2))\r\n",
        "    # model.add(Dense(7, activation='softmax'))\r\n",
        "    model = Model(inputs=base_input,outputs = final_output)\r\n",
        "    model.compile(loss=\"binary_crossentropy\", metrics=[\"accuracy\"],\r\n",
        "                  optimizer=Adam(learning_rate=learning_rate))\r\n",
        "    return model"
      ],
      "execution_count": 6,
      "outputs": []
    },
    {
      "cell_type": "code",
      "metadata": {
        "id": "miB1StdO_H3L"
      },
      "source": [
        "def keras_model_memory_usage_in_bytes(model, *, batch_size: int):\r\n",
        "    \"\"\"\r\n",
        "    Return the estimated memory usage of a given Keras model in bytes.\r\n",
        "    Ref: https://stackoverflow.com/a/64359137\r\n",
        "    \"\"\"\r\n",
        "    default_dtype = tf.keras.backend.floatx()\r\n",
        "    shapes_mem_count = 0\r\n",
        "    internal_model_mem_count = 0\r\n",
        "    for layer in model.layers:\r\n",
        "        if isinstance(layer, tf.keras.Model):\r\n",
        "            internal_model_mem_count += keras_model_memory_usage_in_bytes(\r\n",
        "                layer, batch_size=batch_size)\r\n",
        "        single_layer_mem = tf.as_dtype(layer.dtype or default_dtype).size\r\n",
        "        out_shape = layer.output_shape\r\n",
        "        if isinstance(out_shape, list):\r\n",
        "            out_shape = out_shape[0]\r\n",
        "        for s in out_shape:\r\n",
        "            if s is None:\r\n",
        "                continue\r\n",
        "            single_layer_mem *= s\r\n",
        "        shapes_mem_count += single_layer_mem\r\n",
        "\r\n",
        "    trainable_count = sum([tf.keras.backend.count_params(p)\r\n",
        "                           for p in model.trainable_weights])\r\n",
        "    non_trainable_count = sum([tf.keras.backend.count_params(p)\r\n",
        "                               for p in model.non_trainable_weights])\r\n",
        "\r\n",
        "    total_memory = (batch_size * shapes_mem_count + internal_model_mem_count\r\n",
        "                    + trainable_count + non_trainable_count)\r\n",
        "    return total_memory\r\n"
      ],
      "execution_count": 7,
      "outputs": []
    },
    {
      "cell_type": "code",
      "metadata": {
        "id": "lxWVbkaM_Kr2"
      },
      "source": [
        "def preprocess_data(data,labels):\r\n",
        "    \r\n",
        "\r\n",
        "    orig_class_names = ['neutral', 'happiness', 'surprise', 'sadness', 'anger', 'disgust', 'fear', 'contempt',\r\n",
        "                        'unknown', 'NF']\r\n",
        "\r\n",
        "    n_samples = len(data)\r\n",
        "    w = 224\r\n",
        "    h = 224\r\n",
        "    y = np.array(labels[orig_class_names])\r\n",
        "    X = np.zeros((n_samples, w, h, 3))\r\n",
        "    # for i in range(n_samples):\r\n",
        "       \r\n",
        "    #     image = np.fromstring(data['pixels'][i], dtype=int,\r\n",
        "    #                           sep=' ').reshape((48, 48, 1))\r\n",
        "      \r\n",
        "    #     image48_rgb = tf.image.grayscale_to_rgb(tf.convert_to_tensor(image))\r\n",
        "    #     X[i]=  cv2.resize(np.float32(image48_rgb),(224,224))\r\n",
        "    return X, y"
      ],
      "execution_count": 8,
      "outputs": []
    },
    {
      "cell_type": "code",
      "metadata": {
        "id": "3KQ21vh9_Soj"
      },
      "source": [
        "def clean_data_and_normalize(X, y):\r\n",
        "    orig_class_names = ['neutral', 'happiness', 'surprise', 'sadness', 'anger', 'disgust', 'fear', 'contempt',\r\n",
        "                        'unknown', 'NF']\r\n",
        "\r\n",
        "    # Using mask to remove unknown or NF images\r\n",
        "    y_mask = y.argmax(axis=-1)\r\n",
        "    mask = y_mask < orig_class_names.index('unknown')\r\n",
        "    X = X[mask]\r\n",
        "    y = y[mask]\r\n",
        "\r\n",
        "    # Convert to probabilities between 0 and 1\r\n",
        "    y = y[:, :-2] * 0.1\r\n",
        "\r\n",
        "    # Add contempt to neutral and remove it\r\n",
        "    y[:, 0] += y[:, 7]\r\n",
        "    y = y[:, :7]\r\n",
        "\r\n",
        "    # Normalize image vectors\r\n",
        "    X = X / 255.0\r\n",
        "\r\n",
        "    return X, y"
      ],
      "execution_count": 9,
      "outputs": []
    },
    {
      "cell_type": "code",
      "metadata": {
        "id": "uAhEs-xp-mvJ"
      },
      "source": [
        "def split_data(X, y):\r\n",
        "    test_size = ceil(len(X) * 0.1)\r\n",
        "\r\n",
        "    # Split Data\r\n",
        "    x_train, x_test, y_train, y_test = model_selection.train_test_split(\r\n",
        "        X, y, test_size=test_size, random_state=42)\r\n",
        "    x_train, x_val, y_train, y_val = model_selection.train_test_split(x_train, y_train, test_size=test_size,\r\n",
        "                                                                      random_state=42)\r\n",
        "    return x_train, y_train, x_val, y_val, x_test, y_test\r\n",
        "\r\n",
        "def data_augmentation(x_train):\r\n",
        "    shift = 0.1\r\n",
        "    datagen = ImageDataGenerator(\r\n",
        "        rotation_range=20,\r\n",
        "        horizontal_flip=True,\r\n",
        "        height_shift_range=shift,\r\n",
        "        width_shift_range=shift)\r\n",
        "    datagen.fit(x_train)\r\n",
        "    return datagen"
      ],
      "execution_count": 10,
      "outputs": []
    },
    {
      "cell_type": "code",
      "metadata": {
        "id": "PKHjY4YS_sQH"
      },
      "source": [
        "bs = 64\r\n",
        "lr = 0.0001\r\n",
        "size = (48, 48)\r\n",
        "shape = (48, 48, 3)\r\n",
        "epochs = 25\r\n"
      ],
      "execution_count": 11,
      "outputs": []
    },
    {
      "cell_type": "code",
      "metadata": {
        "colab": {
          "base_uri": "https://localhost:8080/"
        },
        "id": "wph6bN5QA_eF",
        "outputId": "4e9f0bed-582d-4ee0-f87b-c47b9ba5ba28"
      },
      "source": [
        "\r\n",
        "fileSave = \"facial_expression.model\"\r\n",
        "data = pd.read_csv('/content/drive/MyDrive/colab/fer2013.csv')\r\n",
        "labels = pd.read_csv('/content/drive/MyDrive/colab/fer2013new.csv')\r\n",
        "print(data)\r\n",
        "print(labels)\r\n"
      ],
      "execution_count": 12,
      "outputs": [
        {
          "output_type": "stream",
          "text": [
            "       emotion                                             pixels        Usage\n",
            "0            0  70 80 82 72 58 58 60 63 54 58 60 48 89 115 121...     Training\n",
            "1            0  151 150 147 155 148 133 111 140 170 174 182 15...     Training\n",
            "2            2  231 212 156 164 174 138 161 173 182 200 106 38...     Training\n",
            "3            4  24 32 36 30 32 23 19 20 30 41 21 22 32 34 21 1...     Training\n",
            "4            6  4 0 0 0 0 0 0 0 0 0 0 0 3 15 23 28 48 50 58 84...     Training\n",
            "...        ...                                                ...          ...\n",
            "35882        6  50 36 17 22 23 29 33 39 34 37 37 37 39 43 48 5...  PrivateTest\n",
            "35883        3  178 174 172 173 181 188 191 194 196 199 200 20...  PrivateTest\n",
            "35884        0  17 17 16 23 28 22 19 17 25 26 20 24 31 19 27 9...  PrivateTest\n",
            "35885        3  30 28 28 29 31 30 42 68 79 81 77 67 67 71 63 6...  PrivateTest\n",
            "35886        2  19 13 14 12 13 16 21 33 50 57 71 84 97 108 122...  PrivateTest\n",
            "\n",
            "[35887 rows x 3 columns]\n",
            "             Usage      Image name  neutral  ...  contempt  unknown  NF\n",
            "0         Training  fer0000000.png        4  ...         0        0   0\n",
            "1         Training  fer0000001.png        6  ...         0        2   0\n",
            "2         Training  fer0000002.png        5  ...         0        1   0\n",
            "3         Training  fer0000003.png        4  ...         0        1   0\n",
            "4         Training  fer0000004.png        9  ...         0        0   0\n",
            "...            ...             ...      ...  ...       ...      ...  ..\n",
            "35882  PrivateTest  fer0035797.png        8  ...         0        0   0\n",
            "35883  PrivateTest             NaN        0  ...         0        0  10\n",
            "35884  PrivateTest  fer0035799.png        0  ...         2        0   0\n",
            "35885  PrivateTest  fer0035800.png        0  ...         0        0   0\n",
            "35886  PrivateTest  fer0035801.png        2  ...         0        1   0\n",
            "\n",
            "[35887 rows x 12 columns]\n"
          ],
          "name": "stdout"
        }
      ]
    },
    {
      "cell_type": "code",
      "metadata": {
        "id": "vy-Wdt7ZJpGO"
      },
      "source": [
        "X, y = preprocess_data(data,labels)\r\n",
        "X, y = clean_data_and_normalize(X, y)\r\n",
        "x_train, y_train, x_val, y_val, x_test, y_test = split_data(X, y)\r\n",
        "datagen = data_augmentation(x_train)"
      ],
      "execution_count": null,
      "outputs": []
    },
    {
      "cell_type": "code",
      "metadata": {
        "id": "KE5hbsbZEuzp"
      },
      "source": [
        "net_type_to_model = {\n",
        "        'MB2': MobileNetV2_model,\n",
        "    }\n",
        "model_name =\"MB2\"\n",
        "model_builder = net_type_to_model.get(model_name)\n",
        "model = model_builder(lr, shape)\n",
        "model.summary()\n"
      ],
      "execution_count": null,
      "outputs": []
    },
    {
      "cell_type": "code",
      "metadata": {
        "id": "YsYQYx3mH2jS"
      },
      "source": [
        "earlystop = EarlyStopping(monitor='val_loss', patience=5, mode='auto')\r\n",
        "tensorboard = TensorBoard(log_dir=os.path.join(\"logs\", model_name))\r\n",
        "checkpoint = ModelCheckpoint(os.path.join(\"results\", f\"{model_name}\" + f\"-size-{size[0]}\" +\r\n",
        "                                              f\"-bs-{bs}\" + f\"-lr-{lr}.h5\"),\r\n",
        "                                 monitor='val_loss', save_best_only=True, verbose=1)\r\n"
      ],
      "execution_count": null,
      "outputs": []
    },
    {
      "cell_type": "code",
      "metadata": {
        "id": "8MHJ9mPCIE_r"
      },
      "source": [
        "history = model.fit(datagen.flow(x_train, y_train, batch_size=bs), epochs=epochs,\r\n",
        "                        steps_per_epoch=len(x_train) // bs,\r\n",
        "                        batch_size=bs, callbacks=[\r\n",
        "        earlystop, tensorboard, checkpoint], shuffle=True,\r\n",
        "        validation_data=(x_val, y_val), verbose=2)\r\n",
        "print(history)"
      ],
      "execution_count": null,
      "outputs": []
    },
    {
      "cell_type": "code",
      "metadata": {
        "id": "doDF7mOzIIiw"
      },
      "source": [
        "test_loss, test_accuracy = model.evaluate(\r\n",
        "        x_test, y_test, batch_size=bs)\r\n",
        "metrics = pd.DataFrame(history.history)"
      ],
      "execution_count": null,
      "outputs": []
    },
    {
      "cell_type": "code",
      "metadata": {
        "id": "ze3rooH0IIxJ"
      },
      "source": [
        "print(metrics.head(10))\r\n",
        "\r\n",
        "print('test_loss: ', test_loss)\r\n",
        "print('test_accuracy: ', test_accuracy)\r\n",
        "print('Memory consumption: %s bytes' %\r\n",
        "          keras_model_memory_usage_in_bytes(model, batch_size=bs))\r\n",
        "\r\n",
        "    # save_model_and_weights(model, test_accuracy)\r\n",
        "    # model.save(model_name+'_'+fileSave, save_format=\"h5\")"
      ],
      "execution_count": null,
      "outputs": []
    },
    {
      "cell_type": "code",
      "metadata": {
        "id": "1V9QfOPVII2b"
      },
      "source": [
        "\r\n",
        "plt.subplot(211)\r\n",
        "plt.title('Loss')\r\n",
        "plt.plot(history.history['loss'], label='train')\r\n",
        "plt.plot(history.history['val_loss'], label='test')\r\n",
        "plt.legend()\r\n",
        "plt.show()"
      ],
      "execution_count": null,
      "outputs": []
    },
    {
      "cell_type": "code",
      "metadata": {
        "id": "wydjT6dvL_E3"
      },
      "source": [
        "plt.subplot(212)\r\n",
        "plt.title('Accuracy')\r\n",
        "plt.plot(history.history['accuracy'], label='train')\r\n",
        "plt.plot(history.history['val_accuracy'], label='test')\r\n",
        "plt.legend()\r\n",
        "plt.show()"
      ],
      "execution_count": null,
      "outputs": []
    }
  ]
}